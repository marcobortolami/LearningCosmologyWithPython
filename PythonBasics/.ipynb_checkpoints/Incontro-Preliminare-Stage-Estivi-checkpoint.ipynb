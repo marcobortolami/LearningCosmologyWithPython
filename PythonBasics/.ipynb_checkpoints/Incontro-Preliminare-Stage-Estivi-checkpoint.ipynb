{
 "cells": [
  {
   "cell_type": "markdown",
   "metadata": {
    "id": "8o1HrXBhVhjo"
   },
   "source": [
    "<font color=#c83349 size=6> Achievement 1/5: aprire un notebook con Colab ! </font> "
   ]
  },
  {
   "cell_type": "markdown",
   "metadata": {
    "id": "hlVH7_LKEheT"
   },
   "source": [
    "# Breve introduzione preliminare a Colab e Python\n",
    "### Marco Bortolami - marco.bortolami@unife.it\n",
    "(modifica del notebook creato da **Alessandro Gabbana** e utilizzato da **Daniele Simeoni** per l'introduzione a Python)\n",
    "\n",
    "In questa lezione introduttiva impareremo assieme alcune basi del linguaggio di programmazione Python. Per farlo utilizzeremo un ambiente messo a disposizione da Google: Colab.\n",
    "\n",
    "Colab ci permette di utilizzare Python in modalità interattiva dal browser del nostro computer: i codici verranno eseguiti da unità di calcolo messe a disposizione da Google (cloud-computing).\n",
    "\n",
    "Questo approccio ci fornisce diversi vantaggi:\n",
    "-  Non dobbiamo installare nessun programma/pacchetto sui nostri pc\n",
    "-  Possiamo accedere ai nostri script da qualsiasi postazione\n",
    "-  I nostri programmi possono accedere a tutti i file presenti sul nostro Google-drive, e possiamo condividerli con un click\n",
    "-  Possiamo accedere gratuitamente a strumenti di calcolo avanzati\n",
    "-  ... la corrente la paga Google!"
   ]
  },
  {
   "cell_type": "markdown",
   "metadata": {
    "id": "D0RCkzjeVhjt"
   },
   "source": [
    "<figure>\n",
    "<center>\n",
    "<img src='https://drive.google.com/uc?export=view&id=1a6N2Adh9_ghLU_JEb3vtNE30clJOtMp-' width=\"300\" />\n",
    "<img src='https://drive.google.com/uc?export=view&id=1EqTl2c-lvekLAu0MNZt37tUXTYOjU_6N' width=\"300\" />\n",
    "<center>\n",
    "</figure>"
   ]
  },
  {
   "cell_type": "markdown",
   "metadata": {
    "id": "dbkU9twoVhju"
   },
   "source": [
    "**Domanda:** Dovreste vedere delle immagini qui sopra (logo di colab e logo di python), ma alcuni browser danno problemi... Riesci a vederle? Scrivilo nella chat di Google Meet!"
   ]
  },
  {
   "cell_type": "markdown",
   "metadata": {
    "id": "gDlhInu1Vhjv"
   },
   "source": [
    "<font color=#c83349 size=6> Achievement 2/5: visualizzare correttamente le immagini ! </font> "
   ]
  },
  {
   "cell_type": "code",
   "execution_count": null,
   "metadata": {
    "id": "k2AvXLzUKEAH"
   },
   "outputs": [],
   "source": [
    "# Questo è il nostro primo programma Python\n",
    "print(\"Hello, World!\")"
   ]
  },
  {
   "cell_type": "markdown",
   "metadata": {
    "id": "WLqUsHSjVhjx"
   },
   "source": [
    "**Esercizio:** Prova a farti scrivere una frase a tua scelta (prima di cliccare \"Mostra Codice/Show Code\", ora e in seguito, prova a risolvere gli esercizi per conto tuo senza guardare la soluzione!)"
   ]
  },
  {
   "cell_type": "code",
   "execution_count": null,
   "metadata": {
    "id": "QMToCABuVhjx"
   },
   "outputs": [],
   "source": [
    "# Modifica qui sotto:\n",
    "print(\"\")"
   ]
  },
  {
   "cell_type": "code",
   "execution_count": null,
   "metadata": {
    "cellView": "form",
    "id": "7yUMupM5Vhjy"
   },
   "outputs": [],
   "source": [
    "#@title\n",
    "#si usano i tripli \"doppi apici\" per scrivere su più righe\n",
    "print(\"\"\"\n",
    "                                       ._ o o\n",
    "                                       \\_`-)|_\n",
    "                                    ,\"\"       \\ \n",
    "                                  ,\"  ## |   ಠ ಠ. \n",
    "                                ,\" ##   ,-\\__    `.\n",
    "                              ,\"       /     `--._;)\n",
    "                            ,\"     ## /\n",
    "                          ,\"   ##    /\n",
    "\n",
    "\n",
    "                        Mr Giraffe is watching you...    \"\"\")"
   ]
  },
  {
   "cell_type": "markdown",
   "metadata": {
    "id": "GWjQSLSsVhj0"
   },
   "source": [
    "<font color=#c83349 size=6> Achievement 3/5: primo programma in Python ! </font> "
   ]
  },
  {
   "cell_type": "markdown",
   "metadata": {
    "id": "L2CvxoSnEeW6"
   },
   "source": [
    "## Variabili e tipi di dato"
   ]
  },
  {
   "cell_type": "markdown",
   "metadata": {
    "id": "pgBVqGLwNirO"
   },
   "source": [
    "Python è un linguaggio di programmazione con tipizzazione dinamica.\n",
    "Cosa vuol dire tutto ciò?"
   ]
  },
  {
   "cell_type": "code",
   "execution_count": null,
   "metadata": {
    "id": "auELsYurJqzL"
   },
   "outputs": [],
   "source": [
    "x = 2\n",
    "x = 'Mario'\n",
    "\n",
    "print(x)"
   ]
  },
  {
   "cell_type": "markdown",
   "metadata": {
    "id": "AUMo3XoqNrWd"
   },
   "source": [
    "Alcune funzioni assumono un significato diverso a seconda del tipo di dato su cui vengono applicate"
   ]
  },
  {
   "cell_type": "code",
   "execution_count": null,
   "metadata": {
    "id": "85cj6VSRNX4d"
   },
   "outputs": [],
   "source": [
    "# '+' può servire per sommare due numeri...\n",
    "x = 5\n",
    "y = 6 \n",
    "\n",
    "print( x + y )"
   ]
  },
  {
   "cell_type": "code",
   "execution_count": null,
   "metadata": {
    "id": "9oPY3MzJcsQE"
   },
   "outputs": [],
   "source": [
    "# ... ma anche per concatenare due stringhe\n",
    "x = \"cat\"\n",
    "y = \" is on the table\"\n",
    "\n",
    "print(\"The \" + x + y )"
   ]
  },
  {
   "cell_type": "markdown",
   "metadata": {
    "id": "7CIati5mKZBk"
   },
   "source": [
    "Useremo principalmente tipi di dato numerici, ma ne esistono svariati, come vedrete durante gli stage estivi."
   ]
  },
  {
   "cell_type": "markdown",
   "metadata": {
    "id": "2asTxjzrdDKg"
   },
   "source": [
    "## Operatori"
   ]
  },
  {
   "cell_type": "markdown",
   "metadata": {},
   "source": [
    "Vediamo alcuni degli operatori più comuni"
   ]
  },
  {
   "cell_type": "code",
   "execution_count": null,
   "metadata": {
    "id": "HvlxI2eTc5-r"
   },
   "outputs": [],
   "source": [
    "x = 5\n",
    "y = 2\n",
    "\n",
    "# somma\n",
    "print(x+y)\n",
    "\n",
    "# sottrazione\n",
    "print(x-y)\n",
    "\n",
    "# moltiplicazione\n",
    "print(x*y)\n",
    "\n",
    "# divisione\n",
    "print(x/y)\n",
    "\n",
    "# elevamento a potenza\n",
    "print(x**y)\n",
    "\n",
    "# confronto \n",
    "print(x > y)\n",
    "\n",
    "# e molti altri... che scoprirete durante gli stage!"
   ]
  },
  {
   "cell_type": "markdown",
   "metadata": {
    "id": "gWwnExZXVhj6"
   },
   "source": [
    "**Esercizio:** Prova a farti scrivere il risultato di un'operazione mooolto complicata"
   ]
  },
  {
   "cell_type": "code",
   "execution_count": null,
   "metadata": {
    "id": "Rwfpy8sQVhj6"
   },
   "outputs": [],
   "source": [
    "# le tue variabili (aggiungine altre se vuoi):\n",
    "a =\n",
    "b =\n",
    "c =\n",
    "\n",
    "# la tua operazione:\n"
   ]
  },
  {
   "cell_type": "code",
   "execution_count": null,
   "metadata": {
    "cellView": "form",
    "id": "O5wYxQUXVhj7"
   },
   "outputs": [],
   "source": [
    "#@title\n",
    "a = 0\n",
    "b = 1\n",
    "c = 2\n",
    "d = 42\n",
    "e = 99\n",
    "\n",
    "print(a+b*(c+c**d-10000)-a/e**4+(a+b)**(c+d)-e/5-e**(4+c))"
   ]
  },
  {
   "cell_type": "markdown",
   "metadata": {
    "id": "k_zkFNY9dRM7"
   },
   "source": [
    "## Il costrutto If-Else\n",
    "\n",
    "La maggior parte dei linguaggi di programmazione utilizza parentesi graffe per delimitare blocchi logici di codice (funzioni, cicli costrutti if-else, ...), in Python invece si usa l'indentazione del codice (spazi bianchi prima dei comandi).\n",
    "\n",
    "Il costrutto If-Else ci permette di eseguire delle istruzioni solo se una condizione è verificata"
   ]
  },
  {
   "cell_type": "code",
   "execution_count": null,
   "metadata": {
    "id": "lVsUgb4idUpb"
   },
   "outputs": [],
   "source": [
    "num = -1\n",
    "\n",
    "if num < 0:                                      # Attenzione a non dimenticarsi i \":\" a fine riga\n",
    "    print('Hai inserito un numero negativo')     # Questa riga deve essere correttamente indentata\n",
    "else:                                            # Questa parte verrà eseguita nel caso la prima condizione non sia soddisfatta\n",
    "    print('Hai inserito un numero non negativo') # Anche questa riga deve essere indentata"
   ]
  },
  {
   "cell_type": "markdown",
   "metadata": {
    "id": "s8GI8TUaVhj8"
   },
   "source": [
    "**Esercizio:** prova a cambiare il valore di num"
   ]
  },
  {
   "cell_type": "markdown",
   "metadata": {
    "id": "d89RK8DMeCEo"
   },
   "source": [
    "## Cicli\n",
    "\n",
    "I cicli permettono di eseguire una lista di istruzioni più volte, ad esempio fiché una condizione è verificata"
   ]
  },
  {
   "cell_type": "code",
   "execution_count": null,
   "metadata": {
    "id": "3pTRJQ3FiuQn"
   },
   "outputs": [],
   "source": [
    "i = 1\n",
    "while i < 6:\n",
    "    print(i)\n",
    "    if i == 3:\n",
    "        print(\"Tre!!!\")\n",
    "    i = i + 1"
   ]
  },
  {
   "cell_type": "markdown",
   "metadata": {
    "id": "gExkZAqRVhj9"
   },
   "source": [
    "**Esercizio:** prova a cambiare qualche elemento del ciclo (i, il messaggio, il numero massimo, ...)"
   ]
  },
  {
   "cell_type": "code",
   "execution_count": null,
   "metadata": {
    "id": "D7WW8pXXVhj9"
   },
   "outputs": [],
   "source": [
    "# modifica qui:\n",
    "i = 1\n",
    "while i < 6:\n",
    "    print(i)\n",
    "    if i == 3:\n",
    "        print(\"Tre!!!\")\n",
    "    i = i + 1"
   ]
  },
  {
   "cell_type": "markdown",
   "metadata": {
    "id": "19cED5RHVhj9"
   },
   "source": [
    "## Numpy\n",
    "Numpy e' un pacchetto che contiene molte funzioni utili. Carichiamo numpy dandogli il nome np."
   ]
  },
  {
   "cell_type": "code",
   "execution_count": null,
   "metadata": {
    "id": "arh19RiXeMB7"
   },
   "outputs": [],
   "source": [
    "import numpy as np"
   ]
  },
  {
   "cell_type": "markdown",
   "metadata": {},
   "source": [
    "Con numpy possiamo creare numeri casuali"
   ]
  },
  {
   "cell_type": "code",
   "execution_count": null,
   "metadata": {
    "id": "0R7ht6HeVhj-"
   },
   "outputs": [],
   "source": [
    "numero = np.random.random() # questa istruzione genera un numero casuale tra 0 e 1\n",
    "print(numero)"
   ]
  },
  {
   "cell_type": "markdown",
   "metadata": {
    "id": "9uE1So0IVhj-"
   },
   "source": [
    "**Esercizio:** prova ad eseguire la cella sopra più volte. Il numero rimane uguale?"
   ]
  },
  {
   "cell_type": "markdown",
   "metadata": {},
   "source": [
    "Con numpy possiamo immagazzinare diversi numeri in uno stesso oggetto (vettore)"
   ]
  },
  {
   "cell_type": "code",
   "execution_count": null,
   "metadata": {
    "id": "2F2Ly7j8jcI2"
   },
   "outputs": [],
   "source": [
    "x = np.arange(1,10,1) # Creiamo un vettore che contiene i numeri da 1 a 9 \"a salti di 1\"\n",
    "\n",
    "print(x) # Scriviamolo\n",
    "\n",
    "# Scriviamo alcuni elementi\n",
    "# ATTENZIONE: spesso, nella programmazione, si inizia a contare da zero, non da uno!!!\n",
    "print(x[0])\n",
    "print(x[1])\n",
    "print(x[8])"
   ]
  },
  {
   "cell_type": "markdown",
   "metadata": {
    "id": "Hm-OzeEKVhj_"
   },
   "source": [
    "**Esercizio:** crea un vettore coi numeri pari da 0 a 20 e accedi all'elemento col numero 12"
   ]
  },
  {
   "cell_type": "code",
   "execution_count": null,
   "metadata": {
    "id": "x_eSEwxaVhj_"
   },
   "outputs": [],
   "source": [
    "#il tuo codice:\n"
   ]
  },
  {
   "cell_type": "code",
   "execution_count": null,
   "metadata": {
    "cellView": "form",
    "id": "WNZOHWxNVhj_"
   },
   "outputs": [],
   "source": [
    "#@title\n",
    "x = np.arange(0,21,2) # Creiamo un vettore che contiene i numeri da 0 a 20 \"a salti di 2\"\n",
    "\n",
    "print(x) # Scriviamolo\n",
    "\n",
    "# Il 12 è il settimo numero pari, contando lo zero, quindi sarà nella posizione 6\n",
    "print(x[6])"
   ]
  },
  {
   "cell_type": "markdown",
   "metadata": {
    "id": "AqWGQRZSeG7B"
   },
   "source": [
    "## Funzioni\n",
    "\n",
    "Una funzione è una sezione di codice a cui viene attribuito un nome in modo che sia possibile riutilizzarla più volte all'interno di un programma"
   ]
  },
  {
   "cell_type": "code",
   "execution_count": null,
   "metadata": {
    "id": "ETcbE9QH0sjE"
   },
   "outputs": [],
   "source": [
    "# Dichiariamo nome e argomenti della funzione\n",
    "def somma(a,b):\n",
    "    c = a + b\n",
    "    return c\n",
    "\n",
    "# Proviamola\n",
    "x = somma(2, 2)\n",
    "y = somma(5, 10)\n",
    "\n",
    "# Scriviamo il risultato\n",
    "print(x)\n",
    "print(y)"
   ]
  },
  {
   "cell_type": "markdown",
   "metadata": {
    "id": "QXD8Ns7ZVhkB"
   },
   "source": [
    "**Esercizio:** Definisci ed utilizza qui sotto una funzione a piacere. Sbizzarrisciti! Poi vedremo insieme qualche vostra creazione ;)"
   ]
  },
  {
   "cell_type": "code",
   "execution_count": null,
   "metadata": {
    "id": "AHkxxG4WVhkB"
   },
   "outputs": [],
   "source": [
    "#la tua funzione:\n"
   ]
  },
  {
   "cell_type": "code",
   "execution_count": null,
   "metadata": {
    "cellView": "form",
    "id": "ZmhAykHeVhkB"
   },
   "outputs": [],
   "source": [
    "#@title\n",
    "def veggente(nome1,nome2):        #leggo due nomi, che non userò nella funzione: stiamo avendo a che fare con un ciarlatano!\n",
    "    love = np.random.random()*100 #creo un numero casuale tra 0 e 100\n",
    "    return str(int(love))         #lo ritorno togliendo i numeri dopo la virgola e trasformandolo in una stringa\n",
    "\n",
    "nome1 = \"Dante\"\n",
    "nome2 = \"Beatrice\"\n",
    "\n",
    "print(\"<3 <3 <3\")\n",
    "print(\"Compatibilita' tra \"+nome1+\" e \"+nome2+\": \"+veggente(nome1,nome2)+\"%\")\n",
    "print(\"<3 <3 <3\")"
   ]
  },
  {
   "cell_type": "markdown",
   "metadata": {
    "id": "lB5D_cN3eKBR"
   },
   "source": [
    "## Matplotlib: grafici\n",
    "Matplotlib è un pacchetto contenente molte funzioni utili per fare grafici. Carichiamo matplotlib.pyplot dandogli il nome plt. Poi proviamo a fare un grafico."
   ]
  },
  {
   "cell_type": "code",
   "execution_count": null,
   "metadata": {},
   "outputs": [],
   "source": [
    "import matplotlib.pyplot as plt"
   ]
  },
  {
   "cell_type": "code",
   "execution_count": null,
   "metadata": {
    "id": "gCL0SoDPeRfl"
   },
   "outputs": [],
   "source": [
    "N = 21 # Numero di punti\n",
    "x = np.linspace(-5, 5, N) # Andiamo da -5 a 5 con N punti equamente distanti\n",
    "print(x)\n",
    "\n",
    "# creiamo una parabola\n",
    "a=-1\n",
    "b=0\n",
    "c=3\n",
    "y = a*x**2 + b*x + c\n",
    "\n",
    "plt.plot(x, y, marker='o', color='blue')\n",
    "plt.xlabel('x')\n",
    "plt.ylabel('y')\n",
    "plt.title('Parabola')\n",
    "\n",
    "plt.show()"
   ]
  },
  {
   "cell_type": "markdown",
   "metadata": {
    "id": "mLmkb2gjVhkC"
   },
   "source": [
    "**Esercizio:** prova a graficare un'altra funzione"
   ]
  },
  {
   "cell_type": "code",
   "execution_count": null,
   "metadata": {
    "id": "L3mMfNkBVhkC"
   },
   "outputs": [],
   "source": [
    "#il tuo codice:\n"
   ]
  },
  {
   "cell_type": "code",
   "execution_count": null,
   "metadata": {
    "cellView": "form",
    "id": "HO7o5qHRVhkD"
   },
   "outputs": [],
   "source": [
    "#@title\n",
    "N = 42 # Numero di punti\n",
    "x = np.linspace(-4, 4, N) # Andiamo da -5 a 5 con N punti equamente distanti\n",
    "print(x)\n",
    "\n",
    "a=-1\n",
    "b=2\n",
    "c=0\n",
    "d=10\n",
    "e=-3\n",
    "y = a*x**4 + b*x**3 + c*x**2 + d*x + e\n",
    "\n",
    "plt.plot(x, y, marker='o', color='green')\n",
    "plt.xlabel('ascisse')\n",
    "plt.ylabel('ordinate')\n",
    "plt.title('Funzione a caso')\n",
    "\n",
    "plt.show()"
   ]
  },
  {
   "cell_type": "markdown",
   "metadata": {
    "id": "WaSf9T4BVhkD"
   },
   "source": [
    "<font color=#c83349 size=6> Achievement 4/5: ottenere basi di Python e Colab ! </font> "
   ]
  },
  {
   "cell_type": "markdown",
   "metadata": {
    "id": "_S4Q7a_06BTM"
   },
   "source": [
    "## Lettura di file da Google Drive\n",
    "Prima di tutto dobbiamo poter accedere ai file di Drive. Per farlo esegui la cella sottostante, clicca sul link, autorizza l'accesso a Drive, copia il codice fornito ed inseriscilo nel riquadro che comparirà nella cella."
   ]
  },
  {
   "cell_type": "code",
   "execution_count": null,
   "metadata": {
    "id": "FroUWkh76DAL"
   },
   "outputs": [],
   "source": [
    "import numpy as np\n",
    "from google.colab import drive\n",
    "drive.mount('/content/drive')"
   ]
  },
  {
   "cell_type": "markdown",
   "metadata": {
    "id": "pk52DYMu6cIX"
   },
   "source": [
    "Possiamo ora navigare nelle cartelle del nostro google drive"
   ]
  },
  {
   "cell_type": "code",
   "execution_count": null,
   "metadata": {
    "id": "neW4UkPn6bOc"
   },
   "outputs": [],
   "source": [
    "!ls"
   ]
  },
  {
   "cell_type": "markdown",
   "metadata": {},
   "source": [
    "Leggiamo un file (sostituisci a cognome.nome i tuoi dati)"
   ]
  },
  {
   "cell_type": "code",
   "execution_count": null,
   "metadata": {
    "id": "XMbrY9c36pgL"
   },
   "outputs": [],
   "source": [
    "data = np.loadtxt('/content/drive/Shared drives/Stage-Estivi-a-Fisica-2021-studenti/cognome.nome/incontro-preliminare/dati.txt')\n",
    "# Se non va: cerca il percorso corretto usando !ls\n",
    "#\n",
    "# Se non va ancora: vai su Drive, clicca sulla cartella col tuo cognome.nome (tasto destro del mouse)\n",
    "#                   e poi su \"aggiungi scorciatoia al mio drive\".\n",
    "#                   Poi, usando !ls naviga nelle cartelle fino a trovare il file dati.txt e metti il\n",
    "#                   percorso corretto su np.loadtxt(...)\n",
    "\n",
    "print(data)\n",
    "\n",
    "# data è una matrice (capirai come usare le matrici durante gli stage)\n",
    "x = data[:, 0] # prima colonna\n",
    "y = data[:, 1] # seconda colonna\n",
    "\n",
    "plt.plot(x,y)"
   ]
  },
  {
   "cell_type": "markdown",
   "metadata": {
    "id": "adAjIpOEVhkG"
   },
   "source": [
    "<font color=#c83349 size=6> Achievement 5/5: caricare un file da Google Drive ! </font> "
   ]
  },
  {
   "cell_type": "markdown",
   "metadata": {
    "id": "E4yZlraUVhkH"
   },
   "source": [
    "Abbiamo raggiunto la fine di questa breve introduzione preliminare a Colab e Python. Durante gli stage estivi, capirete molto meglio come programmare in Python ed usare Colab.\n",
    "\n",
    "Se oggi abbiamo capito come fare semplici operazioni, come la somma di due numeri o produrre un grafico, la prossima settimana con alcuni semplici programmi riuscirete a capire come il nostro Universo si sta espandendo, come programmare con un supercomputer e molto altro.\n",
    "\n",
    "Ecco il programma completo:"
   ]
  },
  {
   "cell_type": "markdown",
   "metadata": {
    "id": "k7KI7dpnVhkH"
   },
   "source": [
    "<figure>\n",
    "<center>\n",
    "<img src='https://drive.google.com/uc?export=view&id=11pIX3BUrmS03mb60UBpYlDttQuU4YkRZ' width=\"900\"/>\n",
    "<center>\n",
    "</figure>"
   ]
  },
  {
   "cell_type": "markdown",
   "metadata": {
    "id": "QuFfc6pXVhkH"
   },
   "source": [
    "Potete pure uscire dalla riunione. Se avete dubbi, provate a riguardare il notebook con calma. Se i dubbi rimangono, contattateci!"
   ]
  },
  {
   "cell_type": "markdown",
   "metadata": {},
   "source": [
    "Alla prossima settimana :)"
   ]
  }
 ],
 "metadata": {
  "colab": {
   "collapsed_sections": [],
   "name": "Incontro-Preliminare-Stage-Estivi.ipynb",
   "provenance": []
  },
  "kernelspec": {
   "display_name": "Python 3 (ipykernel)",
   "language": "python",
   "name": "python3"
  },
  "language_info": {
   "codemirror_mode": {
    "name": "ipython",
    "version": 3
   },
   "file_extension": ".py",
   "mimetype": "text/x-python",
   "name": "python",
   "nbconvert_exporter": "python",
   "pygments_lexer": "ipython3",
   "version": "3.7.4"
  }
 },
 "nbformat": 4,
 "nbformat_minor": 1
}
