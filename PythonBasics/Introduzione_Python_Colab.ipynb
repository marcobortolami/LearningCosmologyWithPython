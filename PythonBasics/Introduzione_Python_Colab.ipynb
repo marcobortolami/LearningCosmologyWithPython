{
 "cells": [
  {
   "cell_type": "markdown",
   "metadata": {
    "id": "8o1HrXBhVhjo"
   },
   "source": [
    "<font color=#c83349 size=6> Achievement 1/5: aprire un notebook con Colab ! </font> "
   ]
  },
  {
   "cell_type": "markdown",
   "metadata": {
    "id": "hlVH7_LKEheT"
   },
   "source": [
    "# Introduzione a Colab e Python\n",
    "### Marco Bortolami - marco.bortolami@unife.it\n",
    "(modifica del notebook creato da **Alessandro Gabbana** e utilizzato da **Daniele Simeoni** per l'introduzione a Python)\n",
    "\n",
    "In questa lezione introduttiva impareremo assieme alcune basi del linguaggio di programmazione Python. Per farlo utilizzeremo un ambiente messo a disposizione da Google: Google Colaboratory, o Colab.\n",
    "\n",
    "Aspetta... Ma cos'è un linguaggio di programmazione? Un linguaggio di programmazione è un linguaggio che specifica un insieme di istruzioni che possono essere usate per controllare il comportamento di una macchina (tipicamente, un computer). Python è uno dei tanti linguaggi di programmazione esistenti.\n",
    "\n",
    "E Colab? Colab ci permette di utilizzare Python in modalità interattiva dal browser del nostro computer: i codici verranno eseguiti da unità di calcolo messe a disposizione da Google (cloud-computing). Questo approccio ci fornisce diversi vantaggi:\n",
    "-  Non dobbiamo installare nessun programma/pacchetto sui nostri pc\n",
    "-  Possiamo accedere ai nostri script da qualsiasi postazione\n",
    "-  I nostri programmi possono accedere a tutti i file presenti sul nostro Google-drive, e possiamo condividerli con un click\n",
    "-  Possiamo accedere gratuitamente a strumenti di calcolo avanzati\n",
    "-  ... la corrente la paga Google!"
   ]
  },
  {
   "cell_type": "markdown",
   "metadata": {
    "id": "D0RCkzjeVhjt"
   },
   "source": [
    "<figure>\n",
    "<center>\n",
    "<img src='https://drive.google.com/uc?export=view&id=1JDs3LcdcVB4YyFpF7R7hcb84BiDfSmdE' width=\"300\" />\n",
    "<img src='https://drive.google.com/uc?export=view&id=1UoDg2BAoL5MAXMNIqOI1p-fblh_9NXBk' width=\"300\" />\n",
    "<center>\n",
    "</figure>"
   ]
  },
  {
   "cell_type": "markdown",
   "metadata": {
    "id": "dbkU9twoVhju"
   },
   "source": [
    "**Domanda:** Dovreste vedere delle immagini qui sopra (logo di colab e logo di python), ma alcuni browser danno problemi... Riesci a vederle?"
   ]
  },
  {
   "cell_type": "markdown",
   "metadata": {
    "id": "gDlhInu1Vhjv"
   },
   "source": [
    "<font color=#c83349 size=6> Achievement 2/5: visualizzare correttamente le immagini ! </font> "
   ]
  },
  {
   "cell_type": "markdown",
   "metadata": {
    "id": "jyuKU2C0WZ_O"
   },
   "source": [
    "Ora scriverai il tuo primo programma in Python usando Colab."
   ]
  },
  {
   "cell_type": "code",
   "execution_count": null,
   "metadata": {
    "id": "k2AvXLzUKEAH"
   },
   "outputs": [],
   "source": [
    "# Questo è il nostro primo programma in Python!\n",
    "# Le parti che iniziano con un cancelletto sono commenti, ignorati dal computer\n",
    "# La funzione Print ci permette di scrivere a schermo qualcosa\n",
    "print(\"Hello, World!\")"
   ]
  },
  {
   "cell_type": "markdown",
   "metadata": {
    "id": "WLqUsHSjVhjx"
   },
   "source": [
    "**Esercizio:** Prova a farti scrivere una frase a tua scelta (prima di cliccare \"Mostra Codice/Show Code\", ora e in seguito, prova a risolvere gli esercizi per conto tuo senza guardare la soluzione!)"
   ]
  },
  {
   "cell_type": "code",
   "execution_count": null,
   "metadata": {
    "id": "QMToCABuVhjx"
   },
   "outputs": [],
   "source": [
    "# Modifica qui sotto:\n",
    "print(\"ohrbgouebgr\")"
   ]
  },
  {
   "cell_type": "code",
   "execution_count": null,
   "metadata": {
    "id": "7yUMupM5Vhjy"
   },
   "outputs": [],
   "source": [
    "#@title\n",
    "#si usano i tripli \"doppi apici\" per scrivere su più righe\n",
    "print(\"\"\"\n",
    "                                       ._ o o\n",
    "                                       \\_`-)|_\n",
    "                                    ,\"\"       \\ \n",
    "                                  ,\"  ## |   ಠ ಠ. \n",
    "                                ,\" ##   ,-\\__    `.\n",
    "                              ,\"       /     `--._;)\n",
    "                            ,\"     ## /\n",
    "                          ,\"   ##    /\n",
    "\n",
    "\n",
    "                        Mr Giraffe is watching you...    \"\"\")"
   ]
  },
  {
   "cell_type": "markdown",
   "metadata": {
    "id": "GWjQSLSsVhj0"
   },
   "source": [
    "<font color=#c83349 size=6> Achievement 3/5: primo programma in Python ! </font> "
   ]
  },
  {
   "cell_type": "markdown",
   "metadata": {
    "id": "L2CvxoSnEeW6"
   },
   "source": [
    "## Variabili e tipi di dato"
   ]
  },
  {
   "cell_type": "markdown",
   "metadata": {
    "id": "pgBVqGLwNirO"
   },
   "source": [
    "Python è un linguaggio di programmazione con tipizzazione dinamica.\n",
    "Cosa vuol dire tutto ciò?"
   ]
  },
  {
   "cell_type": "code",
   "execution_count": null,
   "metadata": {
    "id": "auELsYurJqzL"
   },
   "outputs": [],
   "source": [
    "x = 2       #intero\n",
    "x = 'Mario' #stringa\n",
    "\n",
    "print(x)"
   ]
  },
  {
   "cell_type": "markdown",
   "metadata": {
    "id": "AUMo3XoqNrWd"
   },
   "source": [
    "Alcune funzioni assumono un significato diverso a seconda del tipo di dato su cui vengono applicate"
   ]
  },
  {
   "cell_type": "code",
   "execution_count": null,
   "metadata": {
    "id": "85cj6VSRNX4d"
   },
   "outputs": [],
   "source": [
    "# '+' può servire per sommare due numeri...\n",
    "x = 5\n",
    "y = 6 \n",
    "\n",
    "print( x + y )"
   ]
  },
  {
   "cell_type": "code",
   "execution_count": null,
   "metadata": {
    "id": "9oPY3MzJcsQE"
   },
   "outputs": [],
   "source": [
    "# ... ma anche per concatenare due stringhe\n",
    "x = \"cat\"\n",
    "y = \" is on the table\"\n",
    "\n",
    "print(\"The \" + x + y )"
   ]
  },
  {
   "cell_type": "markdown",
   "metadata": {
    "id": "7CIati5mKZBk"
   },
   "source": [
    "Useremo principalmente tipi di dato numerici, ma ne esistono svariati."
   ]
  },
  {
   "cell_type": "markdown",
   "metadata": {
    "id": "2asTxjzrdDKg"
   },
   "source": [
    "## Operatori"
   ]
  },
  {
   "cell_type": "markdown",
   "metadata": {
    "id": "hVTNMvyYHVhK"
   },
   "source": [
    "Vediamo alcuni degli operatori più comuni"
   ]
  },
  {
   "cell_type": "code",
   "execution_count": null,
   "metadata": {
    "id": "HvlxI2eTc5-r"
   },
   "outputs": [],
   "source": [
    "x = 5\n",
    "y = 5\n",
    "\n",
    "# somma\n",
    "print(x+y)\n",
    "\n",
    "# sottrazione\n",
    "print(x-y)\n",
    "\n",
    "# moltiplicazione\n",
    "print(x*y)\n",
    "\n",
    "# divisione\n",
    "print(x/y)\n",
    "\n",
    "# elevamento a potenza\n",
    "print(x**y)\n",
    "\n",
    "# confronto \n",
    "print(x == y)\n",
    "\n",
    "# e molti altri..."
   ]
  },
  {
   "cell_type": "markdown",
   "metadata": {
    "id": "gWwnExZXVhj6"
   },
   "source": [
    "**Esercizio:** Prova a farti scrivere il risultato di un'operazione mooolto complicata"
   ]
  },
  {
   "cell_type": "code",
   "execution_count": null,
   "metadata": {
    "id": "Rwfpy8sQVhj6"
   },
   "outputs": [],
   "source": [
    "# le tue variabili (aggiungine altre se vuoi):\n",
    "a = \n",
    "b =\n",
    "c =\n",
    "\n",
    "# la tua operazione:\n"
   ]
  },
  {
   "cell_type": "code",
   "execution_count": null,
   "metadata": {
    "id": "O5wYxQUXVhj7"
   },
   "outputs": [],
   "source": [
    "#@title\n",
    "a = 0\n",
    "b = 1\n",
    "c = 2\n",
    "d = 42\n",
    "e = 99\n",
    "\n",
    "print(a+b*(c+c**d-10000)-a/e**4+(a+b)**(c+d)-e/5-e**(4+c))"
   ]
  },
  {
   "cell_type": "markdown",
   "metadata": {
    "id": "k_zkFNY9dRM7"
   },
   "source": [
    "## Il costrutto If-Else\n",
    "\n",
    "La maggior parte dei linguaggi di programmazione utilizza parentesi graffe per delimitare blocchi logici di codice (funzioni, cicli, costrutti if-else, ...), in Python invece si usa l'indentazione del codice (spazi bianchi prima dei comandi).\n",
    "\n",
    "Il costrutto If-Else ci permette di eseguire delle istruzioni solo se una condizione è verificata"
   ]
  },
  {
   "cell_type": "code",
   "execution_count": null,
   "metadata": {
    "id": "lVsUgb4idUpb"
   },
   "outputs": [],
   "source": [
    "num = 42\n",
    "\n",
    "if(num < 0):                                     # Attenzione a non dimenticarsi i \":\" a fine riga\n",
    "    print('Hai inserito un numero negativo')     # Questa riga deve essere correttamente indentata\n",
    "#else:                                            # Questa parte verrà eseguita nel caso la prima condizione non sia soddisfatta\n",
    "#    print('Hai inserito un numero non negativo') # Anche questa riga deve essere indentata\n",
    "print(\"ciao\")"
   ]
  },
  {
   "cell_type": "markdown",
   "metadata": {
    "id": "s8GI8TUaVhj8"
   },
   "source": [
    "**Esercizio:** prova a cambiare il valore di num nella cella sopra"
   ]
  },
  {
   "cell_type": "markdown",
   "metadata": {
    "id": "d89RK8DMeCEo"
   },
   "source": [
    "## Cicli\n",
    "\n",
    "I cicli permettono di eseguire una lista di istruzioni più volte, ad esempio fiché una condizione è verificata"
   ]
  },
  {
   "cell_type": "code",
   "execution_count": null,
   "metadata": {
    "id": "3pTRJQ3FiuQn"
   },
   "outputs": [],
   "source": [
    "i = 1\n",
    "while i < 6:\n",
    "    print(i)\n",
    "    if i == 3:\n",
    "        print(\"Tre!!!\")\n",
    "    i = i + 1\n",
    "print(\"ciao\")"
   ]
  },
  {
   "cell_type": "markdown",
   "metadata": {
    "id": "gExkZAqRVhj9"
   },
   "source": [
    "**Esercizio:** prova a cambiare qualche elemento del ciclo (i, il messaggio, il numero massimo, ...) usando la cella sotto"
   ]
  },
  {
   "cell_type": "code",
   "execution_count": null,
   "metadata": {
    "id": "D7WW8pXXVhj9"
   },
   "outputs": [],
   "source": [
    "# modifica qui:\n",
    "i = 4\n",
    "while i < 6:\n",
    "    print(i)\n",
    "    if i == 3:\n",
    "        print(\"Tre!!!\")\n",
    "    i = i + 1"
   ]
  },
  {
   "cell_type": "markdown",
   "metadata": {
    "id": "19cED5RHVhj9"
   },
   "source": [
    "## Numpy\n",
    "Numpy e' un pacchetto che contiene molte funzioni utili. Carichiamo numpy dandogli il nome np."
   ]
  },
  {
   "cell_type": "code",
   "execution_count": null,
   "metadata": {
    "id": "arh19RiXeMB7"
   },
   "outputs": [],
   "source": [
    "import numpy as np"
   ]
  },
  {
   "cell_type": "markdown",
   "metadata": {
    "id": "QOtSVhERHVhT"
   },
   "source": [
    "Con numpy possiamo creare numeri casuali"
   ]
  },
  {
   "cell_type": "code",
   "execution_count": null,
   "metadata": {
    "id": "0R7ht6HeVhj-"
   },
   "outputs": [],
   "source": [
    "numero = np.random.random()*100 # questa istruzione genera un numero casuale tra 0 e 1\n",
    "print(numero)"
   ]
  },
  {
   "cell_type": "markdown",
   "metadata": {
    "id": "9uE1So0IVhj-"
   },
   "source": [
    "**Esercizio:** prova ad eseguire la cella sopra più volte. Il numero rimane uguale?"
   ]
  },
  {
   "cell_type": "markdown",
   "metadata": {
    "id": "mpcG336jHVhU"
   },
   "source": [
    "Con numpy possiamo immagazzinare diversi numeri in uno stesso oggetto (vettore)"
   ]
  },
  {
   "cell_type": "code",
   "execution_count": null,
   "metadata": {
    "id": "2F2Ly7j8jcI2"
   },
   "outputs": [],
   "source": [
    "x = np.arange(1,10,1) # Creiamo un vettore che contiene i numeri da 1 a 9 \"a salti di 1\"\n",
    "\n",
    "print(x) # Scriviamolo\n",
    "\n",
    "# Scriviamo alcuni elementi\n",
    "# ATTENZIONE: spesso nella programmazione si inizia a contare da zero, non da uno!!! In Python si inizia da 0\n",
    "print(x[0])\n",
    "print(x[1])\n",
    "print(x[8])"
   ]
  },
  {
   "cell_type": "markdown",
   "metadata": {
    "id": "Hm-OzeEKVhj_"
   },
   "source": [
    "**Esercizio:** crea un vettore coi numeri pari da 0 a 20 e accedi all'elemento col numero 12"
   ]
  },
  {
   "cell_type": "code",
   "execution_count": null,
   "metadata": {
    "id": "x_eSEwxaVhj_"
   },
   "outputs": [],
   "source": [
    "#il tuo codice:\n"
   ]
  },
  {
   "cell_type": "code",
   "execution_count": null,
   "metadata": {
    "id": "WNZOHWxNVhj_"
   },
   "outputs": [],
   "source": [
    "#@title\n",
    "x = np.arange(0,21,2) # Creiamo un vettore che contiene i numeri da 0 a 20 \"a salti di 2\"\n",
    "\n",
    "print(x) # Scriviamolo\n",
    "\n",
    "# Il 12 è il settimo numero pari, contando lo zero, quindi sarà nella posizione 6\n",
    "print(x[6])"
   ]
  },
  {
   "cell_type": "markdown",
   "metadata": {
    "id": "AqWGQRZSeG7B"
   },
   "source": [
    "## Funzioni\n",
    "\n",
    "Una funzione è una sezione di codice a cui viene attribuito un nome in modo che sia possibile riutilizzarla più volte all'interno di un programma"
   ]
  },
  {
   "cell_type": "code",
   "execution_count": null,
   "metadata": {
    "id": "ETcbE9QH0sjE"
   },
   "outputs": [],
   "source": [
    "# Dichiariamo nome e argomenti della funzione\n",
    "def somma(a,b):\n",
    "    c = a + b\n",
    "    print(\"aiuto\")\n",
    "    return c\n",
    "\n",
    "# Proviamola\n",
    "x = somma(\"mamma\", \" mia\")\n",
    "y = somma(4, 1)\n",
    "\n",
    "# Scriviamo il risultato\n",
    "print(x)\n",
    "print(y)"
   ]
  },
  {
   "cell_type": "markdown",
   "metadata": {
    "id": "QXD8Ns7ZVhkB"
   },
   "source": [
    "**Esercizio:** Definisci ed utilizza qui sotto una funzione a piacere. Sbizzarrisciti! Poi vedremo insieme qualche vostra creazione ;)"
   ]
  },
  {
   "cell_type": "code",
   "execution_count": null,
   "metadata": {
    "id": "AHkxxG4WVhkB"
   },
   "outputs": [],
   "source": [
    "#la tua funzione:\n"
   ]
  },
  {
   "cell_type": "code",
   "execution_count": null,
   "metadata": {
    "id": "ZmhAykHeVhkB"
   },
   "outputs": [],
   "source": [
    "#@title\n",
    "def veggente(nome1,nome2):        #leggo due nomi, che non userò nella funzione: stiamo avendo a che fare con un ciarlatano!\n",
    "    love = np.random.random()*100 #creo un numero casuale tra 0 e 100\n",
    "    return str(int(love))         #lo ritorno togliendo i numeri dopo la virgola e trasformandolo in una stringa\n",
    "\n",
    "nome1 = \"Dante\"\n",
    "nome2 = \"Beatrice\"\n",
    "\n",
    "print(\"<3 <3 <3 <3 <3 <3 <3 <3 <3 <3 <3 <3 <3\")\n",
    "print(\"Compatibilita' tra \"+nome1+\" e \"+nome2+\": \"+veggente(nome1,nome2)+\"%\")\n",
    "print(\"<3 <3 <3 <3 <3 <3 <3 <3 <3 <3 <3 <3 <3\")"
   ]
  },
  {
   "cell_type": "markdown",
   "metadata": {
    "id": "lB5D_cN3eKBR"
   },
   "source": [
    "## Matplotlib: grafici\n",
    "Matplotlib è un pacchetto contenente molte funzioni utili per fare grafici. Carichiamo matplotlib.pyplot dandogli il nome plt. Poi proviamo a fare un grafico."
   ]
  },
  {
   "cell_type": "code",
   "execution_count": null,
   "metadata": {
    "id": "1b3IxPnfHVhb"
   },
   "outputs": [],
   "source": [
    "import matplotlib.pyplot as plt"
   ]
  },
  {
   "cell_type": "code",
   "execution_count": null,
   "metadata": {
    "id": "gCL0SoDPeRfl"
   },
   "outputs": [],
   "source": [
    "N = 21 # Numero di punti\n",
    "x = np.linspace(-5, 5, N) # Andiamo da -5 a 5 con N punti equamente distanti\n",
    "print(x)\n",
    "\n",
    "# creiamo una parabola\n",
    "a = -1\n",
    "b = 0\n",
    "c = 3\n",
    "y = a*x**2 + b*x + c\n",
    "\n",
    "plt.plot(x, y, marker='.', color='red')\n",
    "plt.xlabel('Posizione [m]')\n",
    "plt.ylabel('Altezza [m]')\n",
    "plt.title('Grafico relazione Lab')\n",
    "\n",
    "plt.show()"
   ]
  },
  {
   "cell_type": "markdown",
   "metadata": {
    "id": "mLmkb2gjVhkC"
   },
   "source": [
    "**Esercizio:** prova a graficare un'altra funzione"
   ]
  },
  {
   "cell_type": "code",
   "execution_count": null,
   "metadata": {
    "id": "L3mMfNkBVhkC"
   },
   "outputs": [],
   "source": [
    "#il tuo codice:\n"
   ]
  },
  {
   "cell_type": "code",
   "execution_count": null,
   "metadata": {
    "id": "HO7o5qHRVhkD"
   },
   "outputs": [],
   "source": [
    "#@title\n",
    "N = 42 # Numero di punti\n",
    "x = np.linspace(-4, 4, N) # Andiamo da -5 a 5 con N punti equamente distanti\n",
    "print(x)\n",
    "\n",
    "a=-1\n",
    "b=2\n",
    "c=0\n",
    "d=10\n",
    "e=-3\n",
    "y = a*x**4 + b*x**3 + c*x**2 + d*x + e\n",
    "\n",
    "x = [0,1,2]\n",
    "y = [2,3,4]\n",
    "\n",
    "plt.plot(x, y, marker='<', color='green')\n",
    "plt.xlabel('ascisse')\n",
    "plt.ylabel('ordinate')\n",
    "plt.title('Funzione a caso')\n",
    "plt.grid()\n",
    "\n",
    "plt.show()"
   ]
  },
  {
   "cell_type": "markdown",
   "metadata": {
    "id": "WaSf9T4BVhkD"
   },
   "source": [
    "<font color=#c83349 size=6> Achievement 4/5: ottenere basi di Python e Colab ! </font> "
   ]
  },
  {
   "cell_type": "markdown",
   "metadata": {
    "id": "_S4Q7a_06BTM"
   },
   "source": [
    "## Lettura di file da Google Drive\n",
    "Prima di tutto dobbiamo poter accedere ai file di Drive. Per farlo esegui la cella sottostante, clicca sul link, autorizza l'accesso a Drive, copia il codice fornito ed inseriscilo nel riquadro che comparirà nella cella."
   ]
  },
  {
   "cell_type": "code",
   "execution_count": null,
   "metadata": {
    "id": "FroUWkh76DAL"
   },
   "outputs": [],
   "source": [
    "import numpy as np\n",
    "from google.colab import drive\n",
    "drive.mount('/content/drive')"
   ]
  },
  {
   "cell_type": "markdown",
   "metadata": {
    "id": "pk52DYMu6cIX"
   },
   "source": [
    "Possiamo ora navigare nelle cartelle del nostro google drive (per inserire uno spazio metti una barra \\ prima dello spazio)"
   ]
  },
  {
   "cell_type": "code",
   "execution_count": null,
   "metadata": {
    "id": "neW4UkPn6bOc"
   },
   "outputs": [],
   "source": [
    "!ls drive"
   ]
  },
  {
   "cell_type": "markdown",
   "metadata": {
    "id": "tVz519EuHVhf"
   },
   "source": [
    "Leggiamo un file (sostituisci a *cognome.nome* i tuoi dati)"
   ]
  },
  {
   "cell_type": "code",
   "execution_count": null,
   "metadata": {
    "id": "XMbrY9c36pgL"
   },
   "outputs": [],
   "source": [
    "import matplotlib.pyplot as plt\n",
    "data = np.loadtxt('/content/drive/MyDrive/Lab2Go_Morandi/bortolami.marco/dati.txt')\n",
    "#data = np.loadtxt('/content/drive/Shared drives/Lab2Go_Morandi/cognome.nome/dati.txt')\n",
    "# Se non va: cerca il percorso corretto usando !ls\n",
    "#\n",
    "# Se non va ancora: vai su Drive, clicca sulla cartella col tuo cognome.nome (tasto destro del mouse)\n",
    "#                   e poi su \"aggiungi scorciatoia al mio drive\".\n",
    "#                   Poi, usando !ls naviga nelle cartelle fino a trovare il file dati.txt e metti il\n",
    "#                   percorso corretto su np.loadtxt(...)\n",
    "\n",
    "print(data)\n",
    "\n",
    "# data è una matrice, un vettore in 2D\n",
    "x = data[:, 0] # prima colonna\n",
    "y = data[:, 1] # seconda colonna\n",
    "\n",
    "plt.plot(x,y)            #faccio il grafico\n",
    "plt.title('Traiettoria') #titolo\n",
    "plt.xlabel('x [m]')      #scritta asse x\n",
    "plt.ylabel('y [m]')      #scritta asse y\n",
    "plt.grid()               #griglia\n",
    "plt.xlim(0,7)            #intervallo asse x\n",
    "plt.ylim(1,15)           #intervallo asse y\n",
    "plt.show()"
   ]
  },
  {
   "cell_type": "markdown",
   "metadata": {
    "id": "adAjIpOEVhkG"
   },
   "source": [
    "<font color=#c83349 size=6> Achievement 5/5: caricare un file da Google Drive ! </font> "
   ]
  },
  {
   "cell_type": "markdown",
   "metadata": {
    "id": "E4yZlraUVhkH"
   },
   "source": [
    "Abbiamo raggiunto la fine di questa breve introduzione preliminare a Colab e Python. Ora qualche esercizio per voi, da provare a casa :)\n",
    "\n",
    "**Esercizio 1:** crea un ciclo che ti scriva i numeri pari tra 4 e 40 compresi.\n",
    "\n",
    "**Esercizio 2:** crea una funzione che, dati tre numeri interi come parametri, ritorna la somma dei quadrati dei 3 numeri.\n",
    "\n",
    "**Esercizio 3:** crea una semplice calcolatrice. *Suggerimento:* crea una funzione che prende, come parametri, una stringa e due numeri interi. Se la stringa è \"somma\" ritorna la somma dei due interi, se è \"sottrazione\" ritorna la sottrazione e così via.\n",
    "\n",
    "**Esercizio 4:** crea un file testuale di dati e caricalo sul tuo drive. Accedici come visto sopra e fai un grafico dei dati (ti potrebbe essere utile per le relazioni di laboratorio a scuola).\n",
    "\n",
    "**Esercizio 5:** crea una simulazione di corsa clandestina di tartarughe. *Suggerimento:* definisci alcune variabili (tartaruga1, tartaruga2, ...) e mettile inizialmente a 0. Poi in un ciclo genera numeri casuali che rappresentano la distanza percorsa e sommali alle variabili associate alle tartarughe. Alla fine scrivi chi ha vinto."
   ]
  },
  {
   "cell_type": "markdown",
   "metadata": {
    "id": "wWYCBtXl8aOS"
   },
   "source": [
    "Risoluzione esercizio 1"
   ]
  },
  {
   "cell_type": "code",
   "execution_count": null,
   "metadata": {
    "id": "7wTtIhNE45Sr"
   },
   "outputs": [],
   "source": [
    "import numpy as np\n",
    "\n",
    "v = np.arange(2,41,2)\n",
    "for i in v:\n",
    "  print(i)"
   ]
  },
  {
   "cell_type": "code",
   "execution_count": null,
   "metadata": {
    "id": "J55vCQwP8X4q"
   },
   "outputs": [],
   "source": [
    "a = np.arange(2,10)"
   ]
  },
  {
   "cell_type": "code",
   "execution_count": null,
   "metadata": {
    "id": "pkbZWoY88YCR"
   },
   "outputs": [],
   "source": [
    "b = np.insert(a,5,3)"
   ]
  },
  {
   "cell_type": "code",
   "execution_count": null,
   "metadata": {
    "id": "Dpxe5fm98YJf"
   },
   "outputs": [],
   "source": [
    "print(b)"
   ]
  },
  {
   "cell_type": "markdown",
   "metadata": {
    "id": "wLXPWuhVN7Fw"
   },
   "source": [
    "**Esercizio 6**: Il linguaggio dei furfanti\n",
    "In Svezia, i bambini giocano spesso utilizzando un linguaggio un po' particolare detto \"rövarspråket\", che significa \"linguaggio dei furfanti\": consiste nel raddoppiare ogni consonante di una parola e inserire una \"o\" nel mezzo. Ad esempio la parola \"mangiare\" diventa \"momanongogiarore\".\n",
    "Scrivi una funzione in grado di tradurre una parola o frase passata tramite input in \"rövarspråket\".\n",
    "Dopo aver tradotto una frase, il programma dovrà chiedere all'utente se intende tradurne un'altra, e in caso di risposta positiva, dovrà attendere l'inserimento di una nuova parola da parte dell'utente.\n",
    "\n",
    "**Esercizio 7**: Il Geometra\n",
    "Scrivi una funzione che, a scelta dell'utente, calcoli l'area di:\n",
    "    un cerchio\n",
    "    un quadrato\n",
    "    un rettangolo\n",
    "    un triangolo\n",
    "Attenzione: per cerchio e quadrato mi serve solo un dato (r o l), mentre per rettangolo e triangolo 2. Come posso creare una funzione unica? Date un'occhiata a come passare dei parametri a una funzione che hanno valori di default (https://ncassetta.altervista.org/Tutorial_Python/Lezione_18.html).\n",
    "\n",
    "**Esercizio 8**: Crittografia ROT-13\n",
    "Il ROT-13 è un semplice cifrario monoalfabetico, in cui ogni lettera del messaggio da cifrare viene sostituita con quella posta 13 posizioni più avanti nell'alfabeto.\n",
    "Scrivi una semplice funzione in grado di criptare una stringa passata, o decriptarla se la stringa è già stata precedentemente codificata.\n",
    "\n",
    "Ho trovato dei siti con degli esercizi di vario tipo (non ho guardato nel dettaglio cosa c'è). Sono in inglese, se avete problemi ditemi che ne cerco in italiano:\n",
    "https://www.practicepython.org/   (esercizi vari)\n",
    "\n",
    "http://www.pythonchallenge.com/index.php   (questo non l'avevo mai visto, sembra una serie di enigmi per cui per passare al livello successivo bisogna fare un programmino in Python. Sono riuscito a risolvere il livello zero, non mi sono cimentato negli altri per ora. Se vi piace l'idea possiamo provare a risolverne un po', intanto provate a casa)\n",
    "\n",
    "\n"
   ]
  },
  {
   "cell_type": "markdown",
   "metadata": {
    "id": "HGqDIQWZPL89"
   },
   "source": [
    "**Esercizio 9:** dato un numero in input che rappresenta l'esponente a cui elevare un binomio, far scrivere la riga del Triangolo di Tartaglia corrispondente a quell'esponente. Ad esempio: se n=3 voglio che mi compaia a schermo 1 3 3 1, se n=5 voglio 1 5 10 10 5 1 e così via"
   ]
  },
  {
   "cell_type": "markdown",
   "metadata": {
    "id": "momRqm-_Qfuh"
   },
   "source": [
    "**Funzioni ricorsive**\\\n",
    "Sono funzioni che richiamano se stesse al loro interno. Gli esempi più comuni sono la serie di Fibonacci e i fattoriali.\\\n",
    "La serie di Finonacci è una serie di numeri in cui un certo numero della serie è la somma dei due precedenti. I primi due sono 1 e 1, poi avete 1+1=2, poi 1+2=3, poi 2+3=5 e così via: 1 1 2 3 5 8 13...\\\n",
    "Il fattoriale di un numero n, scritto come n!, è dato dalla moltiplicazione di un numero per tutti i numeri interi più piccoli di lui fino a 1. Ad esempio 1! = 1, 2! = 2\\*1, 3!=3\\*2\\*1, 6!=6\\*5\\*4\\*3\\*2\\*1 e così via. Per definizione 0!=1 e si calcola il fattoriale solo per i numeri interi."
   ]
  },
  {
   "cell_type": "code",
   "execution_count": null,
   "metadata": {
    "id": "RJlOjzYEQw_j"
   },
   "outputs": [],
   "source": [
    "def recur_fibo(n):  \n",
    "    if n <= 1:  \n",
    "        return n  \n",
    "    else:  \n",
    "        return(recur_fibo(n-1) + recur_fibo(n-2))  \n",
    "\n",
    "# take input from the user  \n",
    "nterms = int(input(\"How many terms? \"))  \n",
    "# check if the number of terms is valid  \n",
    "if nterms <= 0:  \n",
    "    print(\"Plese enter a positive integer\")  \n",
    "else:  \n",
    "    print(\"Fibonacci sequence:\")  \n",
    "    for i in range(1,nterms+1):  \n",
    "        print(recur_fibo(i))  "
   ]
  },
  {
   "cell_type": "markdown",
   "metadata": {
    "id": "ppT0E1rjPooW"
   },
   "source": [
    "**Esercizio 10:** usare una funzione ricorsiva per calcolare il fattoriale di un numero."
   ]
  },
  {
   "cell_type": "markdown",
   "metadata": {
    "id": "7I31eZ-6S5Vi"
   },
   "source": [
    "**Classi**\\\n",
    "Le classi sono oggetti più complicati di semplici variabili o vettori. Permettono di immagazzinare in un singolo oggetto variabili di tipo diverso e funzioni utili. Vediamo un esempio semplice."
   ]
  },
  {
   "cell_type": "code",
   "execution_count": null,
   "metadata": {
    "id": "VFYHDOygTM7F"
   },
   "outputs": [],
   "source": [
    "class EsempioClasse:\n",
    "    i = 12345\n",
    "    v = 2.4\n",
    "    c = 'z'\n",
    "    def f(self):\n",
    "        print('miao')\n",
    "        return 'hello world'\n",
    "\n",
    "a = EsempioClasse()\n",
    "print(\"ora scrivo i valori delle variabili dentro il mio oggetto\")\n",
    "print(a.i)\n",
    "print(a.v)\n",
    "print(a.c)\n",
    "print(\"\")\n",
    "print(\"ora eseguo la funzione dentro il mio oggetto\")\n",
    "print(a.f())"
   ]
  },
  {
   "cell_type": "code",
   "execution_count": null,
   "metadata": {
    "id": "IR5upH1eUizX"
   },
   "outputs": [],
   "source": [
    "class quadrato:\n",
    "  \"\"\"Questa è una riga di documentazione\"\"\"\n",
    "\n",
    "  nome = \"quadrato\"\n",
    "\n",
    "  def __init__(self,l):\n",
    "    self.lato = l\n",
    "\n",
    "  def perimetro(self):\n",
    "    return 4*self.lato\n",
    "\n",
    "  def area(self):\n",
    "    return self.lato*self.lato\n",
    "\n",
    "a = quadrato(4)\n",
    "print(a.lato)\n",
    "print(a.nome)\n",
    "print(a.perimetro())\n",
    "print(a.area())\n",
    "print(a)\n",
    "print(\"\")\n",
    "\n",
    "b = quadrato(5)\n",
    "print(b.lato)\n",
    "print(b.nome)\n",
    "print(b.perimetro())\n",
    "print(b.area())"
   ]
  },
  {
   "cell_type": "code",
   "execution_count": null,
   "metadata": {
    "id": "joMhxLIuXDMW"
   },
   "outputs": [],
   "source": [
    "import numpy as np\n",
    "\n",
    "class studente:\n",
    "  \"classe che rappresenta uno studente\"\n",
    "\n",
    "  scuola = \"M. Morandi\"\n",
    "\n",
    "  #costruttore che prende in input il nome dello studente\n",
    "  def __init__(self,n):\n",
    "    self.nome = n\n",
    "    self.voti = []\n",
    "\n",
    "  def aggiungi_voto(self,v):\n",
    "    self.voti.append(v)\n",
    "\n",
    "  def media_voti(self):\n",
    "    return np.mean(self.voti)\n",
    "\n",
    "s1 = studente(\"elena\")\n",
    "s1.aggiungi_voto(9)\n",
    "s1.aggiungi_voto(8)\n",
    "s1.aggiungi_voto(10)\n",
    "print(s1.voti)\n",
    "print(\"La media dei voti di\",s1.nome,\", che va alla scuola\", s1.scuola,\", è:\",s1.media_voti())\n",
    "print(\"\")\n",
    "\n",
    "s2 = studente(\"angelo\")\n",
    "s2.aggiungi_voto(9)\n",
    "s2.aggiungi_voto(10)\n",
    "s2.aggiungi_voto(7)\n",
    "print(s2.voti)\n",
    "print(\"La media dei voti di\",s2.nome,\", che va alla scuola\", s2.scuola,\", è:\",s2.media_voti())\n",
    "print(\"\")\n",
    "\n",
    "s3 = studente(\"cristian\")\n",
    "s3.aggiungi_voto(10)\n",
    "s3.aggiungi_voto(9)\n",
    "s3.aggiungi_voto(9)\n",
    "print(s3.voti)\n",
    "print(\"La media dei voti di\",s3.nome,\", che va alla scuola\", s3.scuola,\", è:\",s3.media_voti())\n",
    "\n",
    "print(\"\")\n",
    "s3.voti[0] = 1\n",
    "print(s3.voti)\n",
    "\n",
    "print(\"\")\n",
    "s3.scuola = \"G. Galilei\"\n",
    "print(s3.scuola)"
   ]
  },
  {
   "cell_type": "markdown",
   "metadata": {
    "id": "UdWlrqscPx6J"
   },
   "source": [
    "**Esercizio 11:** creare una classe a piacere, usando quanto visto sopra. Sbizzarritevi;)"
   ]
  },
  {
   "cell_type": "markdown",
   "metadata": {
    "id": "U0FU5c8PEv6B"
   },
   "source": [
    "**animazioni**"
   ]
  },
  {
   "cell_type": "markdown",
   "metadata": {
    "id": "PooxSdOiKR7w"
   },
   "source": [
    "Esempio 1: animazione di un punto"
   ]
  },
  {
   "cell_type": "code",
   "execution_count": null,
   "metadata": {
    "id": "Rb3YlH2wKrEd"
   },
   "outputs": [],
   "source": [
    "%matplotlib inline\n",
    "\n",
    "import numpy as np\n",
    "import matplotlib.pyplot as plt\n",
    "#import seaborn as sns\n",
    "\n",
    "# create a figure and axes\n",
    "fig = plt.figure(figsize=(5,5))\n",
    "ax1 = plt.subplot(1,1,1)\n",
    "\n",
    "# set up the subplots as needed\n",
    "ax1.set_xlim((0, 10))\n",
    "ax1.set_ylim((0, 10))\n",
    "ax1.set_xlabel('x')\n",
    "ax1.set_ylabel('y')\n",
    "\n",
    "# create objects that will change in the animation. These are\n",
    "# initially empty, and will be given new values for each frame\n",
    "# in the animation.\n",
    "txt_title = ax1.set_title('')\n",
    "pt1, = ax1.plot([], [], 'b.', ms=20)     # ax.plot returns a list of 2D line objects\n",
    "pt2, = ax1.plot([], [], 'b.', ms=20)     # ax.plot returns a list of 2D line objects"
   ]
  },
  {
   "cell_type": "code",
   "execution_count": null,
   "metadata": {
    "id": "2QWRx98zRSuw"
   },
   "outputs": [],
   "source": [
    "# animation function. This is called sequentially\n",
    "def drawframe(n):\n",
    "    x = n/10\n",
    "    y = n/10\n",
    "    pt1.set_data(x, y)\n",
    "    pt2.set_data([], [])\n",
    "    txt_title.set_text('Frame = {0:4d}'.format(n))\n",
    "    return (pt1,pt2)"
   ]
  },
  {
   "cell_type": "code",
   "execution_count": null,
   "metadata": {
    "id": "-A_N36s1Reoq"
   },
   "outputs": [],
   "source": [
    "from matplotlib import animation\n",
    "\n",
    "# blit=True re-draws only the parts that have changed.\n",
    "anim = animation.FuncAnimation(fig, drawframe, frames=100, interval=20, blit=True)"
   ]
  },
  {
   "cell_type": "code",
   "execution_count": null,
   "metadata": {
    "id": "vkER1nIARg0j"
   },
   "outputs": [],
   "source": [
    "from IPython.display import HTML\n",
    "HTML(anim.to_html5_video())"
   ]
  },
  {
   "cell_type": "markdown",
   "metadata": {
    "id": "18EQZ7FZKUtx"
   },
   "source": [
    "Esempio 2: animazione di una linea"
   ]
  },
  {
   "cell_type": "code",
   "execution_count": null,
   "metadata": {
    "id": "2_YqqJg1Gg-_"
   },
   "outputs": [],
   "source": [
    "%matplotlib inline\n",
    "\n",
    "import numpy as np\n",
    "import matplotlib.pyplot as plt\n",
    "import seaborn as sns\n",
    "\n",
    "# create a figure and axes\n",
    "fig = plt.figure(figsize=(5,5))\n",
    "ax1 = plt.subplot(1,1,1)   \n",
    "\n",
    "# set up the subplots as needed\n",
    "ax1.set_xlim(( 0, 2))            \n",
    "ax1.set_ylim((-2, 2))\n",
    "ax1.set_xlabel('x')\n",
    "ax1.set_ylabel('y')\n",
    "\n",
    "# create objects that will change in the animation. These are\n",
    "# initially empty, and will be given new values for each frame\n",
    "# in the animation.\n",
    "txt_title = ax1.set_title('')\n",
    "line1, = ax1.plot([], [], 'b', lw=2)     # ax.plot returns a list of 2D line objects\n",
    "line2, = ax1.plot([], [], 'b', lw=2)     # ax.plot returns a list of 2D line objects"
   ]
  },
  {
   "cell_type": "code",
   "execution_count": null,
   "metadata": {
    "id": "cCaCcj-xKfkC"
   },
   "outputs": [],
   "source": [
    "# animation function. This is called sequentially\n",
    "def drawframe(n):\n",
    "    x = np.linspace(0, 2, 1000)\n",
    "    y = x - 2 + n * 0.02\n",
    "    line1.set_data(x, y)\n",
    "    line2.set_data([], [])\n",
    "    txt_title.set_text('Frame = {0:4d}'.format(n))\n",
    "    return (line1,line2)"
   ]
  },
  {
   "cell_type": "code",
   "execution_count": null,
   "metadata": {
    "id": "D0B30ZlTKmNi"
   },
   "outputs": [],
   "source": [
    "from matplotlib import animation\n",
    "\n",
    "# blit=True re-draws only the parts that have changed.\n",
    "anim = animation.FuncAnimation(fig, drawframe, frames=100, interval=20, blit=True)"
   ]
  },
  {
   "cell_type": "code",
   "execution_count": null,
   "metadata": {
    "id": "ynhDJp0wKpD4"
   },
   "outputs": [],
   "source": [
    "from IPython.display import HTML\n",
    "HTML(anim.to_html5_video())"
   ]
  },
  {
   "cell_type": "markdown",
   "metadata": {
    "id": "CbMMDaebRIeK"
   },
   "source": [
    "Esempio 3: animazione di più funzioni"
   ]
  },
  {
   "cell_type": "code",
   "execution_count": null,
   "metadata": {
    "id": "vWGv_TNS8YRM"
   },
   "outputs": [],
   "source": [
    "%matplotlib inline\n",
    "\n",
    "import numpy as np\n",
    "import matplotlib.pyplot as plt\n",
    "import seaborn as sns\n",
    "\n",
    "# create a figure and axes\n",
    "fig = plt.figure(figsize=(12,5))\n",
    "ax1 = plt.subplot(1,2,1)\n",
    "ax2 = plt.subplot(1,2,2)\n",
    "\n",
    "# set up the subplots as needed\n",
    "ax1.set_xlim(( 0, 2))\n",
    "ax1.set_ylim((-2, 2))\n",
    "ax1.set_xlabel('Time')\n",
    "ax1.set_ylabel('Magnitude')\n",
    "\n",
    "ax2.set_xlim((-2,2))\n",
    "ax2.set_ylim((-2,2))\n",
    "ax2.set_xlabel('X')\n",
    "ax2.set_ylabel('Y')\n",
    "ax2.set_title('Phase Plane')\n",
    "\n",
    "# create objects that will change in the animation. These are\n",
    "# initially empty, and will be given new values for each frame\n",
    "# in the animation.\n",
    "txt_title = ax1.set_title('')\n",
    "line1, = ax1.plot([], [], 'b', lw=2)     # ax.plot returns a list of 2D line objects\n",
    "line2, = ax1.plot([], [], 'r', lw=2)\n",
    "pt1,   = ax2.plot([], [], 'g.', ms=20)\n",
    "line3, = ax2.plot([], [], 'y', lw=2)\n",
    "\n",
    "ax1.legend(['sin','cos']);"
   ]
  },
  {
   "cell_type": "code",
   "execution_count": null,
   "metadata": {
    "id": "duZHgtxcE1AL"
   },
   "outputs": [],
   "source": [
    "# animation function. This is called sequentially\n",
    "def drawframe(n):\n",
    "    x = np.linspace(0, 2, 1000)\n",
    "    y1 = np.sin(2 * np.pi * (x - 0.01 * n))\n",
    "    y2 = np.cos(2 * np.pi * (x - 0.01 * n))\n",
    "    line1.set_data(x, y1)\n",
    "    line2.set_data(x, y2)\n",
    "    line3.set_data(y1[0:50],y2[0:50])\n",
    "    pt1.set_data(y1[0],y2[0])\n",
    "    txt_title.set_text('Frame = {0:4d}'.format(n))\n",
    "    return (line1,line2)"
   ]
  },
  {
   "cell_type": "code",
   "execution_count": null,
   "metadata": {
    "id": "-JaBW1foGcgI"
   },
   "outputs": [],
   "source": [
    "from matplotlib import animation\n",
    "\n",
    "# blit=True re-draws only the parts that have changed.\n",
    "anim = animation.FuncAnimation(fig, drawframe, frames=100, interval=20, blit=True)"
   ]
  },
  {
   "cell_type": "code",
   "execution_count": null,
   "metadata": {
    "id": "x_SaFFdeGecU"
   },
   "outputs": [],
   "source": [
    "from IPython.display import HTML\n",
    "HTML(anim.to_html5_video())"
   ]
  },
  {
   "cell_type": "markdown",
   "metadata": {
    "id": "D1lJWSbUUvZW"
   },
   "source": [
    "**Esercizio 12:** creare un'animazione a piacere, usando quanto visto sopra. Sbizzarritevi;)"
   ]
  },
  {
   "cell_type": "code",
   "execution_count": null,
   "metadata": {
    "id": "ZN87WExMRifz"
   },
   "outputs": [],
   "source": [
    "x = [1,2,3,4,5,6,7,8,9,10]\n",
    "y = [2,2.1,2,1.9,1.85,2.14,2,1.99,2.01,2]\n",
    "erry = np.repeat(0.1,10)\n",
    "errx = np.repeat(0.5,10)\n",
    "print(erry)\n",
    "erry[3] /= 10\n",
    "\n",
    "plt.errorbar(x,y,erry,errx,'o')\n",
    "\n",
    "plt.errorbar?"
   ]
  },
  {
   "cell_type": "code",
   "execution_count": null,
   "metadata": {
    "id": "hIZYiHVHhBij"
   },
   "outputs": [],
   "source": []
  }
 ],
 "metadata": {
  "colab": {
   "collapsed_sections": [],
   "name": "Introduzione Python Colab.ipynb",
   "provenance": []
  },
  "kernelspec": {
   "display_name": "Python 3",
   "language": "python",
   "name": "python3"
  },
  "language_info": {
   "codemirror_mode": {
    "name": "ipython",
    "version": 3
   },
   "file_extension": ".py",
   "mimetype": "text/x-python",
   "name": "python",
   "nbconvert_exporter": "python",
   "pygments_lexer": "ipython3",
   "version": "3.7.4"
  }
 },
 "nbformat": 4,
 "nbformat_minor": 1
}
